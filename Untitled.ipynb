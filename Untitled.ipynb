{
 "cells": [
  {
   "cell_type": "code",
   "execution_count": 1,
   "metadata": {
    "collapsed": true
   },
   "outputs": [],
   "source": [
    "import theano, time\n",
    "import theano.tensor as T\n",
    "import numpy as np\n",
    "\n",
    "def floatX(X):\n",
    "    return np.asarray(X, dtype=theano.config.floatX)"
   ]
  },
  {
   "cell_type": "code",
   "execution_count": 2,
   "metadata": {
    "collapsed": false
   },
   "outputs": [
    {
     "name": "stdout",
     "output_type": "stream",
     "text": [
      "[  0.   2.   4.   6.   8.  10.  12.  14.  16.  18.]\n"
     ]
    }
   ],
   "source": [
    "x = T.vector()\n",
    "\n",
    "results, _ =theano.scan(fn = lambda t: t * 2, sequences = x)\n",
    "\n",
    "x_double_scan = theano.function([x],results)\n",
    "\n",
    "print x_double_scan(range(10))"
   ]
  },
  {
   "cell_type": "code",
   "execution_count": 3,
   "metadata": {
    "collapsed": false
   },
   "outputs": [
    {
     "name": "stdout",
     "output_type": "stream",
     "text": [
      "[  0.   2.   4.   6.   8.  10.  12.  14.  16.  18.]\n"
     ]
    }
   ],
   "source": [
    "result, _ = theano.map(fn = lambda t: t * 2, sequences = x)\n",
    "\n",
    "x_double_map = theano.function([x], result)\n",
    "\n",
    "print x_double_map(range(10))"
   ]
  },
  {
   "cell_type": "code",
   "execution_count": 4,
   "metadata": {
    "collapsed": false
   },
   "outputs": [
    {
     "name": "stdout",
     "output_type": "stream",
     "text": [
      "45.0\n"
     ]
    }
   ],
   "source": [
    "result, _ = theano.scan(fn = lambda t, v: t + v, sequences = x, outputs_info = floatX(0.))\n",
    "\n",
    "x_sum_scan = theano.function([x], result[-1])\n",
    "\n",
    "print x_sum_scan(range(10))"
   ]
  },
  {
   "cell_type": "code",
   "execution_count": 5,
   "metadata": {
    "collapsed": false
   },
   "outputs": [
    {
     "name": "stdout",
     "output_type": "stream",
     "text": [
      "45.0\n"
     ]
    }
   ],
   "source": [
    "result, _ = theano.reduce(fn = lambda t, v: t + v,\n",
    "                          sequences = x,\n",
    "                          outputs_info = floatX(0.))\n",
    "\n",
    "x_sum_reduce = theano.function([x], result)\n",
    "\n",
    "# 计算 1 + 2 + ... + 10\n",
    "print x_sum_reduce(range(10))"
   ]
  },
  {
   "cell_type": "code",
   "execution_count": 6,
   "metadata": {
    "collapsed": false
   },
   "outputs": [
    {
     "name": "stdout",
     "output_type": "stream",
     "text": [
      "2301.0\n"
     ]
    }
   ],
   "source": [
    "# 变量 x\n",
    "x = T.scalar(\"x\")\n",
    "\n",
    "# 不为 0 的系数\n",
    "A = T.vectors(\"A\")\n",
    "\n",
    "# 对应的幂数\n",
    "N = T.ivectors(\"N\")\n",
    "\n",
    "# a 对应的是 A， n 对应 N，v 对应 x\n",
    "components, _ = theano.scan(fn = lambda a, n, v: a * (v ** n),\n",
    "                            sequences = [A, N],\n",
    "                            non_sequences = x)\n",
    "\n",
    "result = components.sum()\n",
    "\n",
    "polynomial = theano.function([x, A, N], result)\n",
    "\n",
    "# 计算 1 + 3 * 10 ^ 2 + 2 * 10^3 = 2301\n",
    "print polynomial(floatX(10), \n",
    "                 floatX([1, 3, 2]),\n",
    "                 [0, 2, 3])"
   ]
  },
  {
   "cell_type": "code",
   "execution_count": 7,
   "metadata": {
    "collapsed": false
   },
   "outputs": [],
   "source": [
    "X = T.matrix(\"X\")\n",
    "Y = T.vector(\"y\")\n",
    "\n",
    "W_1 = T.matrix(\"W_1\")\n",
    "W_2 = T.matrix(\"W_2\")\n",
    "W_3 = T.matrix(\"W_3\")\n",
    "\n",
    "# W_yy 和 W_xy 作为不变的参数可以直接使用\n",
    "results, _ = theano.scan(fn = lambda x, x_pre, y: T.tanh(T.dot(W_1, y) + T.dot(W_2, x) + T.dot(W_3, x_pre)), \n",
    "                         # 0 对应 x，-1 对应 x_pre\n",
    "                         sequences = dict(input=X, taps=[0, -1]), \n",
    "                         outputs_info = Y)\n",
    "\n",
    "Y_seq = theano.function(inputs = [X, Y, W_1, W_2, W_3], \n",
    "                        outputs = results)"
   ]
  },
  {
   "cell_type": "code",
   "execution_count": 8,
   "metadata": {
    "collapsed": false
   },
   "outputs": [
    {
     "name": "stdout",
     "output_type": "stream",
     "text": [
      "theano running time 0.0169 s\n",
      "numpy  running time 0.0113 s\n",
      "the max difference of the first 10 results is 0.0\n"
     ]
    }
   ],
   "source": [
    "#测试\n",
    "t = 1001\n",
    "x_dim = 10\n",
    "y_dim = 20\n",
    "\n",
    "x = 2 * floatX(np.random.random([t, x_dim])) - 1 # 随机生成矩阵\n",
    "y = 2 * floatX(np.zeros(y_dim)) - 1 # 生成0数组\n",
    "w_1 = 2 * floatX(np.random.random([y_dim, y_dim])) - 1 # 为什么要减1，这么做是为了得到有正有负的数么？\n",
    "w_2 = 2 * floatX(np.random.random([y_dim, x_dim])) - 1\n",
    "w_3 = 2 * floatX(np.random.random([y_dim, x_dim])) - 1\n",
    "\n",
    "tic = time.time()\n",
    "\n",
    "y_res_theano = Y_seq(x, y, w_1, w_2, w_3)\n",
    "\n",
    "print \"theano running time {:.4f} s\".format(time.time() - tic)\n",
    "\n",
    "tic = time.time()\n",
    "# 与 numpy 的结果进行比较：\n",
    "y_res_numpy = np.zeros([t, y_dim]) # 因为上面的代码把y更新了，这里需要重新初始化\n",
    "y_res_numpy[0] = y\n",
    "\n",
    "for i in range(1, t):\n",
    "    y_res_numpy[i] = np.tanh(w_1.dot(y_res_numpy[i-1]) + w_2.dot(x[i]) + w_3.dot(x[i-1]))\n",
    "\n",
    "print \"numpy  running time {:.4f} s\".format(time.time() - tic)\n",
    "\n",
    "# 这里要从 1 开始，因为使用了 x(t-1)，所以 scan 从第 1 个位置开始计算\n",
    "print \"the max difference of the first 10 results is\", np.max(np.abs(y_res_theano[0:10] - y_res_numpy[1:11]))"
   ]
  },
  {
   "cell_type": "code",
   "execution_count": 9,
   "metadata": {
    "collapsed": false
   },
   "outputs": [
    {
     "name": "stdout",
     "output_type": "stream",
     "text": [
      "theano running time 0.0344 s\n",
      "numpy  running time 0.1083 s\n",
      "the max difference of the first 10 results is 0.0\n"
     ]
    }
   ],
   "source": [
    "# 测试\n",
    "t = 1001\n",
    "x_dim = 100\n",
    "y_dim = 200\n",
    "\n",
    "x = 2 * floatX(np.random.random([t, x_dim])) - 1\n",
    "y = 2 * floatX(np.zeros(y_dim)) - 1\n",
    "w_1 = 2 * floatX(np.random.random([y_dim, y_dim])) - 1\n",
    "w_2 = 2 * floatX(np.random.random([y_dim, x_dim])) - 1\n",
    "w_3 = 2 * floatX(np.random.random([y_dim, x_dim])) - 1\n",
    "\n",
    "tic = time.time()\n",
    "\n",
    "y_res_theano = Y_seq(x, y, w_1, w_2, w_3)\n",
    "\n",
    "print \"theano running time {:.4f} s\".format(time.time() - tic)\n",
    "\n",
    "tic = time.time()\n",
    "# 与 numpy 的结果进行比较：\n",
    "y_res_numpy = np.zeros([t, y_dim])\n",
    "y_res_numpy[0] = y\n",
    "\n",
    "for i in range(1, t):\n",
    "    y_res_numpy[i] = np.tanh(w_1.dot(y_res_numpy[i-1]) + w_2.dot(x[i]) + w_3.dot(x[i-1]))\n",
    "\n",
    "print \"numpy  running time {:.4f} s\".format(time.time() - tic)\n",
    "\n",
    "# 这里要从 1 开始，因为使用了 x(t-1)，所以 scan 从第 1 个位置开始计算\n",
    "print \"the max difference of the first 10 results is\", np.max(np.abs(y_res_theano[:1000] - y_res_numpy[1:1001]))"
   ]
  },
  {
   "cell_type": "code",
   "execution_count": 10,
   "metadata": {
    "collapsed": false
   },
   "outputs": [
    {
     "name": "stdout",
     "output_type": "stream",
     "text": [
      "iter 001, max diff:0.000000\n",
      "iter 002, max diff:0.000000\n",
      "iter 003, max diff:0.000000\n",
      "iter 004, max diff:0.000000\n",
      "iter 005, max diff:0.000000\n",
      "iter 006, max diff:0.000000\n",
      "iter 007, max diff:0.000000\n",
      "iter 008, max diff:0.000000\n",
      "iter 009, max diff:0.000000\n",
      "iter 010, max diff:0.000000\n",
      "iter 011, max diff:0.000000\n",
      "iter 012, max diff:0.000000\n",
      "iter 013, max diff:0.000000\n",
      "iter 014, max diff:0.000000\n",
      "iter 015, max diff:0.000000\n",
      "iter 016, max diff:0.000000\n",
      "iter 017, max diff:0.000000\n",
      "iter 018, max diff:0.000000\n",
      "iter 019, max diff:0.000000\n",
      "iter 020, max diff:0.000000\n"
     ]
    }
   ],
   "source": [
    "for i in xrange(20):\n",
    "    print \"iter {:03d}, max diff:{:.6f}\".format(i + 1, \n",
    "                                                np.max(np.abs(y_res_numpy[i + 1,:] - y_res_theano[i,:])))"
   ]
  },
  {
   "cell_type": "code",
   "execution_count": 11,
   "metadata": {
    "collapsed": true
   },
   "outputs": [],
   "source": [
    "# 控制循环次数"
   ]
  },
  {
   "cell_type": "code",
   "execution_count": 16,
   "metadata": {
    "collapsed": false
   },
   "outputs": [
    {
     "name": "stdout",
     "output_type": "stream",
     "text": [
      "[[ 107616. -152192.]\n",
      " [ -76096.  107616.]]\n",
      "[[ 107616. -152192.]\n",
      " [ -76096.  107616.]]\n"
     ]
    }
   ],
   "source": [
    "A = T.matrix(\"A\")\n",
    "k = T.iscalar(\"k\")\n",
    "\n",
    "\n",
    "results, _ = theano.scan(fn = lambda P, A: P.dot(A), # P变量在这儿是什么?\n",
    "                         # 初始值设为单位矩阵\n",
    "                         outputs_info = T.eye(A.shape[0]),\n",
    "                         # 乘 k 次\n",
    "                         non_sequences = A,\n",
    "                         n_steps = k)\n",
    "\n",
    "A_k = theano.function(inputs = [A, k], outputs = results[-1])\n",
    "\n",
    "test_a = floatX([[2, -2], [-1, 2]])\n",
    "\n",
    "print A_k(test_a, 10)\n",
    "\n",
    "# 使用 numpy 进行验证\n",
    "a_k = np.eye(2)\n",
    "for i in range(10):\n",
    "    a_k = a_k.dot(test_a)\n",
    "    \n",
    "print a_k"
   ]
  },
  {
   "cell_type": "code",
   "execution_count": 22,
   "metadata": {
    "collapsed": true
   },
   "outputs": [],
   "source": [
    "# 使用共享变量"
   ]
  },
  {
   "cell_type": "code",
   "execution_count": 24,
   "metadata": {
    "collapsed": false
   },
   "outputs": [
    {
     "name": "stdout",
     "output_type": "stream",
     "text": [
      "0.0\n",
      "10.0\n",
      "30.0\n"
     ]
    }
   ],
   "source": [
    "n = theano.shared(floatX(0))\n",
    "k = T.iscalar(\"k\")\n",
    "\n",
    "# 这里 lambda 的返回值是一个 dict，因此这个值会被传入 updates 中,在上面的内容中scan的使用fn 的返回值有两部分 (outputs_list, update_dictionary)，第一部分将作为序列，传入 outputs 中，与 outputs_info 中的初始输入值的维度一致（如果没有给定 outputs_info ，输出值可以任意。）\n",
    "\n",
    "#第二部分则是更新规则的字典，告诉我们如何对 scan 中使用到的一些共享的变量进行更新：\n",
    "\n",
    "return [y1_t, y2_t], {x:x+1}\n",
    "_, updates = theano.scan(fn = lambda n: {n:n+1},\n",
    "                         non_sequences = n,\n",
    "                         n_steps = k)\n",
    "\n",
    "counter = theano.function(inputs = [k], \n",
    "                          outputs = [],\n",
    "                          updates = updates)\n",
    "\n",
    "print n.get_value()\n",
    "counter(10)\n",
    "print n.get_value()\n",
    "counter(20)\n",
    "print n.get_value()\n"
   ]
  },
  {
   "cell_type": "code",
   "execution_count": null,
   "metadata": {
    "collapsed": true
   },
   "outputs": [],
   "source": []
  }
 ],
 "metadata": {
  "kernelspec": {
   "display_name": "Python 2",
   "language": "python",
   "name": "python2"
  },
  "language_info": {
   "codemirror_mode": {
    "name": "ipython",
    "version": 2
   },
   "file_extension": ".py",
   "mimetype": "text/x-python",
   "name": "python",
   "nbconvert_exporter": "python",
   "pygments_lexer": "ipython2",
   "version": "2.7.6"
  }
 },
 "nbformat": 4,
 "nbformat_minor": 1
}
